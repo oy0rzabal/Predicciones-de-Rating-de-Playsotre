{
  "nbformat": 4,
  "nbformat_minor": 0,
  "metadata": {
    "colab": {
      "provenance": [],
      "collapsed_sections": []
    },
    "kernelspec": {
      "name": "python3",
      "display_name": "Python 3"
    },
    "language_info": {
      "name": "python"
    }
  },
  "cells": [
    {
      "cell_type": "code",
      "execution_count": 1,
      "metadata": {
        "id": "cQCCDZHNacjX"
      },
      "outputs": [],
      "source": [
        "## Importamos las librerias necesarias para poder hacer las predicicones de Rating df elas Apps de Google\n",
        "#importamos pandas como pd\n",
        "import pandas as pd\n",
        "\n",
        "#importamos mssingno como msno\n",
        "import missingno as msno\n",
        "\n",
        "#importamos seaborn como sns\n",
        "import seaborn as sns\n",
        "\n",
        "#importamos train_test_split\n",
        "from sklearn.model_selection import train_test_split\n",
        "\n",
        "#importamos accuacy_score\n",
        "from sklearn.metrics import accuracy_score\n",
        "\n",
        "#importamos RandomForestClassifier\n",
        "from sklearn.ensemble import RandomForestClassifier\n",
        "\n",
        "#importamos LogisticRegression\n",
        "from sklearn.linear_model import LogisticRegression\n",
        "\n",
        "#Importamos la libreria de Regresion Lineal\n",
        "from sklearn.linear_model import LinearRegression\n",
        "\n",
        "#Importamos numpy\n",
        "import numpy as np\n",
        "\n",
        "#Importamos matplotlib.pyplot\n",
        "import matplotlib.pyplot as plt\n",
        "##Importamos las librerias para poder evaluar a nuestor modelos:\n",
        "from sklearn.metrics import accuracy_score,classification_report,confusion_matrix"
      ]
    },
    {
      "cell_type": "code",
      "source": [
        "#Leeremos los datos\n",
        "df = pd.read_csv(\"https://raw.githubusercontent.com/HackSpacePeru/Datasets_intro_Data_Science/master/google_playstore.csv\")"
      ],
      "metadata": {
        "id": "xPPU2i9TahTD"
      },
      "execution_count": 2,
      "outputs": []
    },
    {
      "cell_type": "code",
      "source": [
        "##Exploraremos mas a fondo el DataFrame:\n",
        "print(\"Mas informacion sobre el DataFrame:\")\n",
        "print(\"_____________________________________________________\")\n",
        "df.info()\n",
        "print(\"_____________________________________________________\")"
      ],
      "metadata": {
        "colab": {
          "base_uri": "https://localhost:8080/"
        },
        "id": "VcpO24BjahVb",
        "outputId": "216ea8c4-efa2-4ab6-c0fd-ac70f5113b06"
      },
      "execution_count": 3,
      "outputs": [
        {
          "output_type": "stream",
          "name": "stdout",
          "text": [
            "Mas informacion sobre el DataFrame:\n",
            "_____________________________________________________\n",
            "<class 'pandas.core.frame.DataFrame'>\n",
            "RangeIndex: 5788 entries, 0 to 5787\n",
            "Data columns (total 9 columns):\n",
            " #   Column          Non-Null Count  Dtype  \n",
            "---  ------          --------------  -----  \n",
            " 0   Category        5788 non-null   int64  \n",
            " 1   Rating          5788 non-null   float64\n",
            " 2   Reviews         5788 non-null   int64  \n",
            " 3   Installs        5788 non-null   int64  \n",
            " 4   Type            5788 non-null   object \n",
            " 5   Price           5788 non-null   float64\n",
            " 6   Content Rating  5788 non-null   int64  \n",
            " 7   Genres          5788 non-null   float64\n",
            " 8   Android Ver     5788 non-null   int64  \n",
            "dtypes: float64(3), int64(5), object(1)\n",
            "memory usage: 407.1+ KB\n",
            "_____________________________________________________\n"
          ]
        }
      ]
    },
    {
      "cell_type": "code",
      "source": [
        "df.head()"
      ],
      "metadata": {
        "colab": {
          "base_uri": "https://localhost:8080/",
          "height": 206
        },
        "id": "cXUxGc3lahX3",
        "outputId": "41349100-f152-4626-de6e-e105acd80f33"
      },
      "execution_count": 4,
      "outputs": [
        {
          "output_type": "execute_result",
          "data": {
            "text/plain": [
              "   Category  Rating  Reviews  Installs  Type  Price  Content Rating    Genres  \\\n",
              "0       133     1.0   149723       541  Free    0.0            4764  0.768336   \n",
              "1       219     0.0      853       661  Free    0.0            4764  0.641972   \n",
              "2        67     1.0    61881       356  Free    0.0            4764  1.172458   \n",
              "3       508     0.0    21943       356  Free    0.0            4764  0.757642   \n",
              "4      1114     1.0        6       536  Free    0.0            4764  1.058965   \n",
              "\n",
              "   Android Ver  \n",
              "0          761  \n",
              "1         1317  \n",
              "2          582  \n",
              "3          381  \n",
              "4         1317  "
            ],
            "text/html": [
              "\n",
              "  <div id=\"df-322b4558-e181-4e17-b7cb-95a230185052\">\n",
              "    <div class=\"colab-df-container\">\n",
              "      <div>\n",
              "<style scoped>\n",
              "    .dataframe tbody tr th:only-of-type {\n",
              "        vertical-align: middle;\n",
              "    }\n",
              "\n",
              "    .dataframe tbody tr th {\n",
              "        vertical-align: top;\n",
              "    }\n",
              "\n",
              "    .dataframe thead th {\n",
              "        text-align: right;\n",
              "    }\n",
              "</style>\n",
              "<table border=\"1\" class=\"dataframe\">\n",
              "  <thead>\n",
              "    <tr style=\"text-align: right;\">\n",
              "      <th></th>\n",
              "      <th>Category</th>\n",
              "      <th>Rating</th>\n",
              "      <th>Reviews</th>\n",
              "      <th>Installs</th>\n",
              "      <th>Type</th>\n",
              "      <th>Price</th>\n",
              "      <th>Content Rating</th>\n",
              "      <th>Genres</th>\n",
              "      <th>Android Ver</th>\n",
              "    </tr>\n",
              "  </thead>\n",
              "  <tbody>\n",
              "    <tr>\n",
              "      <th>0</th>\n",
              "      <td>133</td>\n",
              "      <td>1.0</td>\n",
              "      <td>149723</td>\n",
              "      <td>541</td>\n",
              "      <td>Free</td>\n",
              "      <td>0.0</td>\n",
              "      <td>4764</td>\n",
              "      <td>0.768336</td>\n",
              "      <td>761</td>\n",
              "    </tr>\n",
              "    <tr>\n",
              "      <th>1</th>\n",
              "      <td>219</td>\n",
              "      <td>0.0</td>\n",
              "      <td>853</td>\n",
              "      <td>661</td>\n",
              "      <td>Free</td>\n",
              "      <td>0.0</td>\n",
              "      <td>4764</td>\n",
              "      <td>0.641972</td>\n",
              "      <td>1317</td>\n",
              "    </tr>\n",
              "    <tr>\n",
              "      <th>2</th>\n",
              "      <td>67</td>\n",
              "      <td>1.0</td>\n",
              "      <td>61881</td>\n",
              "      <td>356</td>\n",
              "      <td>Free</td>\n",
              "      <td>0.0</td>\n",
              "      <td>4764</td>\n",
              "      <td>1.172458</td>\n",
              "      <td>582</td>\n",
              "    </tr>\n",
              "    <tr>\n",
              "      <th>3</th>\n",
              "      <td>508</td>\n",
              "      <td>0.0</td>\n",
              "      <td>21943</td>\n",
              "      <td>356</td>\n",
              "      <td>Free</td>\n",
              "      <td>0.0</td>\n",
              "      <td>4764</td>\n",
              "      <td>0.757642</td>\n",
              "      <td>381</td>\n",
              "    </tr>\n",
              "    <tr>\n",
              "      <th>4</th>\n",
              "      <td>1114</td>\n",
              "      <td>1.0</td>\n",
              "      <td>6</td>\n",
              "      <td>536</td>\n",
              "      <td>Free</td>\n",
              "      <td>0.0</td>\n",
              "      <td>4764</td>\n",
              "      <td>1.058965</td>\n",
              "      <td>1317</td>\n",
              "    </tr>\n",
              "  </tbody>\n",
              "</table>\n",
              "</div>\n",
              "      <button class=\"colab-df-convert\" onclick=\"convertToInteractive('df-322b4558-e181-4e17-b7cb-95a230185052')\"\n",
              "              title=\"Convert this dataframe to an interactive table.\"\n",
              "              style=\"display:none;\">\n",
              "        \n",
              "  <svg xmlns=\"http://www.w3.org/2000/svg\" height=\"24px\"viewBox=\"0 0 24 24\"\n",
              "       width=\"24px\">\n",
              "    <path d=\"M0 0h24v24H0V0z\" fill=\"none\"/>\n",
              "    <path d=\"M18.56 5.44l.94 2.06.94-2.06 2.06-.94-2.06-.94-.94-2.06-.94 2.06-2.06.94zm-11 1L8.5 8.5l.94-2.06 2.06-.94-2.06-.94L8.5 2.5l-.94 2.06-2.06.94zm10 10l.94 2.06.94-2.06 2.06-.94-2.06-.94-.94-2.06-.94 2.06-2.06.94z\"/><path d=\"M17.41 7.96l-1.37-1.37c-.4-.4-.92-.59-1.43-.59-.52 0-1.04.2-1.43.59L10.3 9.45l-7.72 7.72c-.78.78-.78 2.05 0 2.83L4 21.41c.39.39.9.59 1.41.59.51 0 1.02-.2 1.41-.59l7.78-7.78 2.81-2.81c.8-.78.8-2.07 0-2.86zM5.41 20L4 18.59l7.72-7.72 1.47 1.35L5.41 20z\"/>\n",
              "  </svg>\n",
              "      </button>\n",
              "      \n",
              "  <style>\n",
              "    .colab-df-container {\n",
              "      display:flex;\n",
              "      flex-wrap:wrap;\n",
              "      gap: 12px;\n",
              "    }\n",
              "\n",
              "    .colab-df-convert {\n",
              "      background-color: #E8F0FE;\n",
              "      border: none;\n",
              "      border-radius: 50%;\n",
              "      cursor: pointer;\n",
              "      display: none;\n",
              "      fill: #1967D2;\n",
              "      height: 32px;\n",
              "      padding: 0 0 0 0;\n",
              "      width: 32px;\n",
              "    }\n",
              "\n",
              "    .colab-df-convert:hover {\n",
              "      background-color: #E2EBFA;\n",
              "      box-shadow: 0px 1px 2px rgba(60, 64, 67, 0.3), 0px 1px 3px 1px rgba(60, 64, 67, 0.15);\n",
              "      fill: #174EA6;\n",
              "    }\n",
              "\n",
              "    [theme=dark] .colab-df-convert {\n",
              "      background-color: #3B4455;\n",
              "      fill: #D2E3FC;\n",
              "    }\n",
              "\n",
              "    [theme=dark] .colab-df-convert:hover {\n",
              "      background-color: #434B5C;\n",
              "      box-shadow: 0px 1px 3px 1px rgba(0, 0, 0, 0.15);\n",
              "      filter: drop-shadow(0px 1px 2px rgba(0, 0, 0, 0.3));\n",
              "      fill: #FFFFFF;\n",
              "    }\n",
              "  </style>\n",
              "\n",
              "      <script>\n",
              "        const buttonEl =\n",
              "          document.querySelector('#df-322b4558-e181-4e17-b7cb-95a230185052 button.colab-df-convert');\n",
              "        buttonEl.style.display =\n",
              "          google.colab.kernel.accessAllowed ? 'block' : 'none';\n",
              "\n",
              "        async function convertToInteractive(key) {\n",
              "          const element = document.querySelector('#df-322b4558-e181-4e17-b7cb-95a230185052');\n",
              "          const dataTable =\n",
              "            await google.colab.kernel.invokeFunction('convertToInteractive',\n",
              "                                                     [key], {});\n",
              "          if (!dataTable) return;\n",
              "\n",
              "          const docLinkHtml = 'Like what you see? Visit the ' +\n",
              "            '<a target=\"_blank\" href=https://colab.research.google.com/notebooks/data_table.ipynb>data table notebook</a>'\n",
              "            + ' to learn more about interactive tables.';\n",
              "          element.innerHTML = '';\n",
              "          dataTable['output_type'] = 'display_data';\n",
              "          await google.colab.output.renderOutput(dataTable, element);\n",
              "          const docLink = document.createElement('div');\n",
              "          docLink.innerHTML = docLinkHtml;\n",
              "          element.appendChild(docLink);\n",
              "        }\n",
              "      </script>\n",
              "    </div>\n",
              "  </div>\n",
              "  "
            ]
          },
          "metadata": {},
          "execution_count": 4
        }
      ]
    },
    {
      "cell_type": "code",
      "source": [
        "df.hist()"
      ],
      "metadata": {
        "colab": {
          "base_uri": "https://localhost:8080/",
          "height": 455
        },
        "id": "MREytxVlahaU",
        "outputId": "4b3bff7b-b72f-4983-ee13-904ce123d9b7"
      },
      "execution_count": 5,
      "outputs": [
        {
          "output_type": "execute_result",
          "data": {
            "text/plain": [
              "array([[<matplotlib.axes._subplots.AxesSubplot object at 0x7f2577941690>,\n",
              "        <matplotlib.axes._subplots.AxesSubplot object at 0x7f2576abd550>,\n",
              "        <matplotlib.axes._subplots.AxesSubplot object at 0x7f2576a77b10>],\n",
              "       [<matplotlib.axes._subplots.AxesSubplot object at 0x7f2576a3a150>,\n",
              "        <matplotlib.axes._subplots.AxesSubplot object at 0x7f25769f0750>,\n",
              "        <matplotlib.axes._subplots.AxesSubplot object at 0x7f25769a7d50>],\n",
              "       [<matplotlib.axes._subplots.AxesSubplot object at 0x7f257696c390>,\n",
              "        <matplotlib.axes._subplots.AxesSubplot object at 0x7f257691f990>,\n",
              "        <matplotlib.axes._subplots.AxesSubplot object at 0x7f257692ae10>]],\n",
              "      dtype=object)"
            ]
          },
          "metadata": {},
          "execution_count": 5
        },
        {
          "output_type": "display_data",
          "data": {
            "text/plain": [
              "<Figure size 432x288 with 9 Axes>"
            ],
            "image/png": "[encoded data removed]"
          },
          "metadata": {
            "needs_background": "light"
          }
        }
      ]
    },
    {
      "cell_type": "code",
      "source": [
        "df.info()"
      ],
      "metadata": {
        "colab": {
          "base_uri": "https://localhost:8080/"
        },
        "id": "MGHNMsGEahfA",
        "outputId": "4b41e991-919b-49cf-e589-b06b19a09472"
      },
      "execution_count": 6,
      "outputs": [
        {
          "output_type": "stream",
          "name": "stdout",
          "text": [
            "<class 'pandas.core.frame.DataFrame'>\n",
            "RangeIndex: 5788 entries, 0 to 5787\n",
            "Data columns (total 9 columns):\n",
            " #   Column          Non-Null Count  Dtype  \n",
            "---  ------          --------------  -----  \n",
            " 0   Category        5788 non-null   int64  \n",
            " 1   Rating          5788 non-null   float64\n",
            " 2   Reviews         5788 non-null   int64  \n",
            " 3   Installs        5788 non-null   int64  \n",
            " 4   Type            5788 non-null   object \n",
            " 5   Price           5788 non-null   float64\n",
            " 6   Content Rating  5788 non-null   int64  \n",
            " 7   Genres          5788 non-null   float64\n",
            " 8   Android Ver     5788 non-null   int64  \n",
            "dtypes: float64(3), int64(5), object(1)\n",
            "memory usage: 407.1+ KB\n"
          ]
        }
      ]
    },
    {
      "cell_type": "code",
      "source": [
        "df.describe()"
      ],
      "metadata": {
        "colab": {
          "base_uri": "https://localhost:8080/",
          "height": 382
        },
        "id": "5hzX7EImahhh",
        "outputId": "5f54eab7-afb2-490f-fba2-3cb3a05aebf6"
      },
      "execution_count": 7,
      "outputs": [
        {
          "output_type": "execute_result",
          "data": {
            "text/plain": [
              "          Category       Rating       Reviews     Installs        Price  \\\n",
              "count  5788.000000  5788.000000  5.788000e+03  5788.000000  5788.000000   \n",
              "mean    419.866966     0.745853  2.341452e+05   490.771942     1.022547   \n",
              "std     373.020929     0.435418  2.174469e+06   220.777426    15.456506   \n",
              "min      32.000000     0.000000  0.000000e+00     7.000000     0.000000   \n",
              "25%     143.000000     0.000000  2.300000e+01   298.000000     0.000000   \n",
              "50%     233.000000     1.000000  8.890000e+02   536.000000     0.000000   \n",
              "75%     581.000000     1.000000  2.643250e+04   661.000000     0.000000   \n",
              "max    1114.000000     1.000000  7.815831e+07   841.000000   399.990000   \n",
              "\n",
              "       Content Rating       Genres  Android Ver  \n",
              "count     5788.000000  5788.000000  5788.000000  \n",
              "mean      3998.374568     0.744623   689.808224  \n",
              "std       1653.493029     0.269435   414.728610  \n",
              "min          1.000000    -0.275977     1.000000  \n",
              "25%       4764.000000     0.561607   381.000000  \n",
              "50%       4764.000000     0.737766   761.000000  \n",
              "75%       4764.000000     0.920554   846.000000  \n",
              "max       4764.000000     1.866941  1317.000000  "
            ],
            "text/html": [
              "\n",
              "  <div id=\"df-d664d4e0-e7a4-4a81-a0fc-da4b4645797a\">\n",
              "    <div class=\"colab-df-container\">\n",
              "      <div>\n",
              "<style scoped>\n",
              "    .dataframe tbody tr th:only-of-type {\n",
              "        vertical-align: middle;\n",
              "    }\n",
              "\n",
              "    .dataframe tbody tr th {\n",
              "        vertical-align: top;\n",
              "    }\n",
              "\n",
              "    .dataframe thead th {\n",
              "        text-align: right;\n",
              "    }\n",
              "</style>\n",
              "<table border=\"1\" class=\"dataframe\">\n",
              "  <thead>\n",
              "    <tr style=\"text-align: right;\">\n",
              "      <th></th>\n",
              "      <th>Category</th>\n",
              "      <th>Rating</th>\n",
              "      <th>Reviews</th>\n",
              "      <th>Installs</th>\n",
              "      <th>Price</th>\n",
              "      <th>Content Rating</th>\n",
              "      <th>Genres</th>\n",
              "      <th>Android Ver</th>\n",
              "    </tr>\n",
              "  </thead>\n",
              "  <tbody>\n",
              "    <tr>\n",
              "      <th>count</th>\n",
              "      <td>5788.000000</td>\n",
              "      <td>5788.000000</td>\n",
              "      <td>5.788000e+03</td>\n",
              "      <td>5788.000000</td>\n",
              "      <td>5788.000000</td>\n",
              "      <td>5788.000000</td>\n",
              "      <td>5788.000000</td>\n",
              "      <td>5788.000000</td>\n",
              "    </tr>\n",
              "    <tr>\n",
              "      <th>mean</th>\n",
              "      <td>419.866966</td>\n",
              "      <td>0.745853</td>\n",
              "      <td>2.341452e+05</td>\n",
              "      <td>490.771942</td>\n",
              "      <td>1.022547</td>\n",
              "      <td>3998.374568</td>\n",
              "      <td>0.744623</td>\n",
              "      <td>689.808224</td>\n",
              "    </tr>\n",
              "    <tr>\n",
              "      <th>std</th>\n",
              "      <td>373.020929</td>\n",
              "      <td>0.435418</td>\n",
              "      <td>2.174469e+06</td>\n",
              "      <td>220.777426</td>\n",
              "      <td>15.456506</td>\n",
              "      <td>1653.493029</td>\n",
              "      <td>0.269435</td>\n",
              "      <td>414.728610</td>\n",
              "    </tr>\n",
              "    <tr>\n",
              "      <th>min</th>\n",
              "      <td>32.000000</td>\n",
              "      <td>0.000000</td>\n",
              "      <td>0.000000e+00</td>\n",
              "      <td>7.000000</td>\n",
              "      <td>0.000000</td>\n",
              "      <td>1.000000</td>\n",
              "      <td>-0.275977</td>\n",
              "      <td>1.000000</td>\n",
              "    </tr>\n",
              "    <tr>\n",
              "      <th>25%</th>\n",
              "      <td>143.000000</td>\n",
              "      <td>0.000000</td>\n",
              "      <td>2.300000e+01</td>\n",
              "      <td>298.000000</td>\n",
              "      <td>0.000000</td>\n",
              "      <td>4764.000000</td>\n",
              "      <td>0.561607</td>\n",
              "      <td>381.000000</td>\n",
              "    </tr>\n",
              "    <tr>\n",
              "      <th>50%</th>\n",
              "      <td>233.000000</td>\n",
              "      <td>1.000000</td>\n",
              "      <td>8.890000e+02</td>\n",
              "      <td>536.000000</td>\n",
              "      <td>0.000000</td>\n",
              "      <td>4764.000000</td>\n",
              "      <td>0.737766</td>\n",
              "      <td>761.000000</td>\n",
              "    </tr>\n",
              "    <tr>\n",
              "      <th>75%</th>\n",
              "      <td>581.000000</td>\n",
              "      <td>1.000000</td>\n",
              "      <td>2.643250e+04</td>\n",
              "      <td>661.000000</td>\n",
              "      <td>0.000000</td>\n",
              "      <td>4764.000000</td>\n",
              "      <td>0.920554</td>\n",
              "      <td>846.000000</td>\n",
              "    </tr>\n",
              "    <tr>\n",
              "      <th>max</th>\n",
              "      <td>1114.000000</td>\n",
              "      <td>1.000000</td>\n",
              "      <td>7.815831e+07</td>\n",
              "      <td>841.000000</td>\n",
              "      <td>399.990000</td>\n",
              "      <td>4764.000000</td>\n",
              "      <td>1.866941</td>\n",
              "      <td>1317.000000</td>\n",
              "    </tr>\n",
              "  </tbody>\n",
              "</table>\n",
              "</div>\n",
              "      <button class=\"colab-df-convert\" onclick=\"convertToInteractive('df-d664d4e0-e7a4-4a81-a0fc-da4b4645797a')\"\n",
              "              title=\"Convert this dataframe to an interactive table.\"\n",
              "              style=\"display:none;\">\n",
              "        \n",
              "  <svg xmlns=\"http://www.w3.org/2000/svg\" height=\"24px\"viewBox=\"0 0 24 24\"\n",
              "       width=\"24px\">\n",
              "    <path d=\"M0 0h24v24H0V0z\" fill=\"none\"/>\n",
              "    <path d=\"M18.56 5.44l.94 2.06.94-2.06 2.06-.94-2.06-.94-.94-2.06-.94 2.06-2.06.94zm-11 1L8.5 8.5l.94-2.06 2.06-.94-2.06-.94L8.5 2.5l-.94 2.06-2.06.94zm10 10l.94 2.06.94-2.06 2.06-.94-2.06-.94-.94-2.06-.94 2.06-2.06.94z\"/><path d=\"M17.41 7.96l-1.37-1.37c-.4-.4-.92-.59-1.43-.59-.52 0-1.04.2-1.43.59L10.3 9.45l-7.72 7.72c-.78.78-.78 2.05 0 2.83L4 21.41c.39.39.9.59 1.41.59.51 0 1.02-.2 1.41-.59l7.78-7.78 2.81-2.81c.8-.78.8-2.07 0-2.86zM5.41 20L4 18.59l7.72-7.72 1.47 1.35L5.41 20z\"/>\n",
              "  </svg>\n",
              "      </button>\n",
              "      \n",
              "  <style>\n",
              "    .colab-df-container {\n",
              "      display:flex;\n",
              "      flex-wrap:wrap;\n",
              "      gap: 12px;\n",
              "    }\n",
              "\n",
              "    .colab-df-convert {\n",
              "      background-color: #E8F0FE;\n",
              "      border: none;\n",
              "      border-radius: 50%;\n",
              "      cursor: pointer;\n",
              "      display: none;\n",
              "      fill: #1967D2;\n",
              "      height: 32px;\n",
              "      padding: 0 0 0 0;\n",
              "      width: 32px;\n",
              "    }\n",
              "\n",
              "    .colab-df-convert:hover {\n",
              "      background-color: #E2EBFA;\n",
              "      box-shadow: 0px 1px 2px rgba(60, 64, 67, 0.3), 0px 1px 3px 1px rgba(60, 64, 67, 0.15);\n",
              "      fill: #174EA6;\n",
              "    }\n",
              "\n",
              "    [theme=dark] .colab-df-convert {\n",
              "      background-color: #3B4455;\n",
              "      fill: #D2E3FC;\n",
              "    }\n",
              "\n",
              "    [theme=dark] .colab-df-convert:hover {\n",
              "      background-color: #434B5C;\n",
              "      box-shadow: 0px 1px 3px 1px rgba(0, 0, 0, 0.15);\n",
              "      filter: drop-shadow(0px 1px 2px rgba(0, 0, 0, 0.3));\n",
              "      fill: #FFFFFF;\n",
              "    }\n",
              "  </style>\n",
              "\n",
              "      <script>\n",
              "        const buttonEl =\n",
              "          document.querySelector('#df-d664d4e0-e7a4-4a81-a0fc-da4b4645797a button.colab-df-convert');\n",
              "        buttonEl.style.display =\n",
              "          google.colab.kernel.accessAllowed ? 'block' : 'none';\n",
              "\n",
              "        async function convertToInteractive(key) {\n",
              "          const element = document.querySelector('#df-d664d4e0-e7a4-4a81-a0fc-da4b4645797a');\n",
              "          const dataTable =\n",
              "            await google.colab.kernel.invokeFunction('convertToInteractive',\n",
              "                                                     [key], {});\n",
              "          if (!dataTable) return;\n",
              "\n",
              "          const docLinkHtml = 'Like what you see? Visit the ' +\n",
              "            '<a target=\"_blank\" href=https://colab.research.google.com/notebooks/data_table.ipynb>data table notebook</a>'\n",
              "            + ' to learn more about interactive tables.';\n",
              "          element.innerHTML = '';\n",
              "          dataTable['output_type'] = 'display_data';\n",
              "          await google.colab.output.renderOutput(dataTable, element);\n",
              "          const docLink = document.createElement('div');\n",
              "          docLink.innerHTML = docLinkHtml;\n",
              "          element.appendChild(docLink);\n",
              "        }\n",
              "      </script>\n",
              "    </div>\n",
              "  </div>\n",
              "  "
            ]
          },
          "metadata": {},
          "execution_count": 7
        }
      ]
    },
    {
      "cell_type": "code",
      "source": [
        "df.value_counts()"
      ],
      "metadata": {
        "colab": {
          "base_uri": "https://localhost:8080/"
        },
        "id": "FvFakGG2ahj7",
        "outputId": "edf30835-ceb6-49ab-808f-2aa771e65a5f"
      },
      "execution_count": 8,
      "outputs": [
        {
          "output_type": "execute_result",
          "data": {
            "text/plain": [
              "Category  Rating  Reviews  Installs  Type  Price  Content Rating  Genres    Android Ver\n",
              "32        0.0     18       536       Free  0.0    4764            1.009395  761            1\n",
              "508       1.0     53       282       Free  0.0    4764            0.850243  846            1\n",
              "                  46       536       Free  0.0    4764            0.406570  846            1\n",
              "                  41       623       Free  0.0    4764            0.778134  137            1\n",
              "                  40       282       Free  0.0    4764            0.565462  88             1\n",
              "                                                                                          ..\n",
              "195       1.0     21186    841       Free  0.0    4764            1.143513  582            1\n",
              "                  20901    841       Free  0.0    4764            0.773749  1317           1\n",
              "                  15880    841       Free  0.0    4764            0.444548  761            1\n",
              "                  15287    841       Free  0.0    4764            0.730700  846            1\n",
              "1114      1.0     3213548  114       Free  0.0    189             0.841189  1317           1\n",
              "Length: 5788, dtype: int64"
            ]
          },
          "metadata": {},
          "execution_count": 8
        }
      ]
    },
    {
      "cell_type": "code",
      "source": [
        "##Procesamiento de datos:\n",
        "df.head(1)"
      ],
      "metadata": {
        "colab": {
          "base_uri": "https://localhost:8080/",
          "height": 81
        },
        "id": "UxiQUUvHahmZ",
        "outputId": "77cb51da-a785-49cd-cfd6-d1160e6dc7d6"
      },
      "execution_count": 9,
      "outputs": [
        {
          "output_type": "execute_result",
          "data": {
            "text/plain": [
              "   Category  Rating  Reviews  Installs  Type  Price  Content Rating    Genres  \\\n",
              "0       133     1.0   149723       541  Free    0.0            4764  0.768336   \n",
              "\n",
              "   Android Ver  \n",
              "0          761  "
            ],
            "text/html": [
              "\n",
              "  <div id=\"df-2de758bf-15a1-4361-a91c-fc6d8ce43de4\">\n",
              "    <div class=\"colab-df-container\">\n",
              "      <div>\n",
              "<style scoped>\n",
              "    .dataframe tbody tr th:only-of-type {\n",
              "        vertical-align: middle;\n",
              "    }\n",
              "\n",
              "    .dataframe tbody tr th {\n",
              "        vertical-align: top;\n",
              "    }\n",
              "\n",
              "    .dataframe thead th {\n",
              "        text-align: right;\n",
              "    }\n",
              "</style>\n",
              "<table border=\"1\" class=\"dataframe\">\n",
              "  <thead>\n",
              "    <tr style=\"text-align: right;\">\n",
              "      <th></th>\n",
              "      <th>Category</th>\n",
              "      <th>Rating</th>\n",
              "      <th>Reviews</th>\n",
              "      <th>Installs</th>\n",
              "      <th>Type</th>\n",
              "      <th>Price</th>\n",
              "      <th>Content Rating</th>\n",
              "      <th>Genres</th>\n",
              "      <th>Android Ver</th>\n",
              "    </tr>\n",
              "  </thead>\n",
              "  <tbody>\n",
              "    <tr>\n",
              "      <th>0</th>\n",
              "      <td>133</td>\n",
              "      <td>1.0</td>\n",
              "      <td>149723</td>\n",
              "      <td>541</td>\n",
              "      <td>Free</td>\n",
              "      <td>0.0</td>\n",
              "      <td>4764</td>\n",
              "      <td>0.768336</td>\n",
              "      <td>761</td>\n",
              "    </tr>\n",
              "  </tbody>\n",
              "</table>\n",
              "</div>\n",
              "      <button class=\"colab-df-convert\" onclick=\"convertToInteractive('df-2de758bf-15a1-4361-a91c-fc6d8ce43de4')\"\n",
              "              title=\"Convert this dataframe to an interactive table.\"\n",
              "              style=\"display:none;\">\n",
              "        \n",
              "  <svg xmlns=\"http://www.w3.org/2000/svg\" height=\"24px\"viewBox=\"0 0 24 24\"\n",
              "       width=\"24px\">\n",
              "    <path d=\"M0 0h24v24H0V0z\" fill=\"none\"/>\n",
              "    <path d=\"M18.56 5.44l.94 2.06.94-2.06 2.06-.94-2.06-.94-.94-2.06-.94 2.06-2.06.94zm-11 1L8.5 8.5l.94-2.06 2.06-.94-2.06-.94L8.5 2.5l-.94 2.06-2.06.94zm10 10l.94 2.06.94-2.06 2.06-.94-2.06-.94-.94-2.06-.94 2.06-2.06.94z\"/><path d=\"M17.41 7.96l-1.37-1.37c-.4-.4-.92-.59-1.43-.59-.52 0-1.04.2-1.43.59L10.3 9.45l-7.72 7.72c-.78.78-.78 2.05 0 2.83L4 21.41c.39.39.9.59 1.41.59.51 0 1.02-.2 1.41-.59l7.78-7.78 2.81-2.81c.8-.78.8-2.07 0-2.86zM5.41 20L4 18.59l7.72-7.72 1.47 1.35L5.41 20z\"/>\n",
              "  </svg>\n",
              "      </button>\n",
              "      \n",
              "  <style>\n",
              "    .colab-df-container {\n",
              "      display:flex;\n",
              "      flex-wrap:wrap;\n",
              "      gap: 12px;\n",
              "    }\n",
              "\n",
              "    .colab-df-convert {\n",
              "      background-color: #E8F0FE;\n",
              "      border: none;\n",
              "      border-radius: 50%;\n",
              "      cursor: pointer;\n",
              "      display: none;\n",
              "      fill: #1967D2;\n",
              "      height: 32px;\n",
              "      padding: 0 0 0 0;\n",
              "      width: 32px;\n",
              "    }\n",
              "\n",
              "    .colab-df-convert:hover {\n",
              "      background-color: #E2EBFA;\n",
              "      box-shadow: 0px 1px 2px rgba(60, 64, 67, 0.3), 0px 1px 3px 1px rgba(60, 64, 67, 0.15);\n",
              "      fill: #174EA6;\n",
              "    }\n",
              "\n",
              "    [theme=dark] .colab-df-convert {\n",
              "      background-color: #3B4455;\n",
              "      fill: #D2E3FC;\n",
              "    }\n",
              "\n",
              "    [theme=dark] .colab-df-convert:hover {\n",
              "      background-color: #434B5C;\n",
              "      box-shadow: 0px 1px 3px 1px rgba(0, 0, 0, 0.15);\n",
              "      filter: drop-shadow(0px 1px 2px rgba(0, 0, 0, 0.3));\n",
              "      fill: #FFFFFF;\n",
              "    }\n",
              "  </style>\n",
              "\n",
              "      <script>\n",
              "        const buttonEl =\n",
              "          document.querySelector('#df-2de758bf-15a1-4361-a91c-fc6d8ce43de4 button.colab-df-convert');\n",
              "        buttonEl.style.display =\n",
              "          google.colab.kernel.accessAllowed ? 'block' : 'none';\n",
              "\n",
              "        async function convertToInteractive(key) {\n",
              "          const element = document.querySelector('#df-2de758bf-15a1-4361-a91c-fc6d8ce43de4');\n",
              "          const dataTable =\n",
              "            await google.colab.kernel.invokeFunction('convertToInteractive',\n",
              "                                                     [key], {});\n",
              "          if (!dataTable) return;\n",
              "\n",
              "          const docLinkHtml = 'Like what you see? Visit the ' +\n",
              "            '<a target=\"_blank\" href=https://colab.research.google.com/notebooks/data_table.ipynb>data table notebook</a>'\n",
              "            + ' to learn more about interactive tables.';\n",
              "          element.innerHTML = '';\n",
              "          dataTable['output_type'] = 'display_data';\n",
              "          await google.colab.output.renderOutput(dataTable, element);\n",
              "          const docLink = document.createElement('div');\n",
              "          docLink.innerHTML = docLinkHtml;\n",
              "          element.appendChild(docLink);\n",
              "        }\n",
              "      </script>\n",
              "    </div>\n",
              "  </div>\n",
              "  "
            ]
          },
          "metadata": {},
          "execution_count": 9
        }
      ]
    },
    {
      "cell_type": "code",
      "source": [
        "##Hacemos el cambio de tipo de dato:\n",
        "#Cambiamos todos los numero o letras a enteros en 1 y 0\n",
        "df['Type'] = df['Type'].replace('Free', 1)\n",
        "df['Type'] = df['Type'].replace('Paid', 0)\n",
        "\n",
        "##Convertimos los flotantes a interos con astype(int):\n",
        "df['Rating'] = df['Rating'].astype(int)\n",
        "#Devolvemos los datos\n",
        "print(df)"
      ],
      "metadata": {
        "colab": {
          "base_uri": "https://localhost:8080/"
        },
        "id": "QHYYnrxPavV7",
        "outputId": "1bf7d8ff-cd32-4b8b-d4ff-9051b21951b8"
      },
      "execution_count": 10,
      "outputs": [
        {
          "output_type": "stream",
          "name": "stdout",
          "text": [
            "      Category  Rating   Reviews  Installs  Type  Price  Content Rating  \\\n",
            "0          133       1    149723       541     1   0.00            4764   \n",
            "1          219       0       853       661     1   0.00            4764   \n",
            "2           67       1     61881       356     1   0.00            4764   \n",
            "3          508       0     21943       356     1   0.00            4764   \n",
            "4         1114       1         6       536     1   0.00            4764   \n",
            "...        ...     ...       ...       ...   ...    ...             ...   \n",
            "5783       195       1  69119316        12     1   0.00            4764   \n",
            "5784       170       0        44       536     1   0.00            4764   \n",
            "5785        46       1      3005       623     0   2.99            4764   \n",
            "5786      1114       1       708       298     1   0.00            4764   \n",
            "5787       134       1       144       536     1   0.00             597   \n",
            "\n",
            "        Genres  Android Ver  \n",
            "0     0.768336          761  \n",
            "1     0.641972         1317  \n",
            "2     1.172458          582  \n",
            "3     0.757642          381  \n",
            "4     1.058965         1317  \n",
            "...        ...          ...  \n",
            "5783  0.306677          582  \n",
            "5784  0.644734          143  \n",
            "5785  0.754550          846  \n",
            "5786  0.559427          137  \n",
            "5787  0.462860          846  \n",
            "\n",
            "[5788 rows x 9 columns]\n"
          ]
        }
      ]
    },
    {
      "cell_type": "code",
      "source": [
        "#Reemplazar datos datos nulos por moda o media\n",
        "#Vamos a buscar valores nulos\n",
        "df.isnull().values.any()"
      ],
      "metadata": {
        "colab": {
          "base_uri": "https://localhost:8080/"
        },
        "id": "CkzGhvoRa1nV",
        "outputId": "3adc21de-4edf-40e1-c5d3-72530498689f"
      },
      "execution_count": 11,
      "outputs": [
        {
          "output_type": "execute_result",
          "data": {
            "text/plain": [
              "False"
            ]
          },
          "metadata": {},
          "execution_count": 11
        }
      ]
    },
    {
      "cell_type": "code",
      "source": [
        "#Devolvemos los datos si tenemos nulos\n",
        "df.isnull()"
      ],
      "metadata": {
        "colab": {
          "base_uri": "https://localhost:8080/",
          "height": 424
        },
        "id": "jLuTWhWJa1p3",
        "outputId": "382da602-b49e-4022-84ff-94fb3bac37d7"
      },
      "execution_count": 12,
      "outputs": [
        {
          "output_type": "execute_result",
          "data": {
            "text/plain": [
              "      Category  Rating  Reviews  Installs   Type  Price  Content Rating  \\\n",
              "0        False   False    False     False  False  False           False   \n",
              "1        False   False    False     False  False  False           False   \n",
              "2        False   False    False     False  False  False           False   \n",
              "3        False   False    False     False  False  False           False   \n",
              "4        False   False    False     False  False  False           False   \n",
              "...        ...     ...      ...       ...    ...    ...             ...   \n",
              "5783     False   False    False     False  False  False           False   \n",
              "5784     False   False    False     False  False  False           False   \n",
              "5785     False   False    False     False  False  False           False   \n",
              "5786     False   False    False     False  False  False           False   \n",
              "5787     False   False    False     False  False  False           False   \n",
              "\n",
              "      Genres  Android Ver  \n",
              "0      False        False  \n",
              "1      False        False  \n",
              "2      False        False  \n",
              "3      False        False  \n",
              "4      False        False  \n",
              "...      ...          ...  \n",
              "5783   False        False  \n",
              "5784   False        False  \n",
              "5785   False        False  \n",
              "5786   False        False  \n",
              "5787   False        False  \n",
              "\n",
              "[5788 rows x 9 columns]"
            ],
            "text/html": [
              "\n",
              "  <div id=\"df-31ed7c7b-3396-47dc-8776-84ba606eaca0\">\n",
              "    <div class=\"colab-df-container\">\n",
              "      <div>\n",
              "<style scoped>\n",
              "    .dataframe tbody tr th:only-of-type {\n",
              "        vertical-align: middle;\n",
              "    }\n",
              "\n",
              "    .dataframe tbody tr th {\n",
              "        vertical-align: top;\n",
              "    }\n",
              "\n",
              "    .dataframe thead th {\n",
              "        text-align: right;\n",
              "    }\n",
              "</style>\n",
              "<table border=\"1\" class=\"dataframe\">\n",
              "  <thead>\n",
              "    <tr style=\"text-align: right;\">\n",
              "      <th></th>\n",
              "      <th>Category</th>\n",
              "      <th>Rating</th>\n",
              "      <th>Reviews</th>\n",
              "      <th>Installs</th>\n",
              "      <th>Type</th>\n",
              "      <th>Price</th>\n",
              "      <th>Content Rating</th>\n",
              "      <th>Genres</th>\n",
              "      <th>Android Ver</th>\n",
              "    </tr>\n",
              "  </thead>\n",
              "  <tbody>\n",
              "    <tr>\n",
              "      <th>0</th>\n",
              "      <td>False</td>\n",
              "      <td>False</td>\n",
              "      <td>False</td>\n",
              "      <td>False</td>\n",
              "      <td>False</td>\n",
              "      <td>False</td>\n",
              "      <td>False</td>\n",
              "      <td>False</td>\n",
              "      <td>False</td>\n",
              "    </tr>\n",
              "    <tr>\n",
              "      <th>1</th>\n",
              "      <td>False</td>\n",
              "      <td>False</td>\n",
              "      <td>False</td>\n",
              "      <td>False</td>\n",
              "      <td>False</td>\n",
              "      <td>False</td>\n",
              "      <td>False</td>\n",
              "      <td>False</td>\n",
              "      <td>False</td>\n",
              "    </tr>\n",
              "    <tr>\n",
              "      <th>2</th>\n",
              "      <td>False</td>\n",
              "      <td>False</td>\n",
              "      <td>False</td>\n",
              "      <td>False</td>\n",
              "      <td>False</td>\n",
              "      <td>False</td>\n",
              "      <td>False</td>\n",
              "      <td>False</td>\n",
              "      <td>False</td>\n",
              "    </tr>\n",
              "    <tr>\n",
              "      <th>3</th>\n",
              "      <td>False</td>\n",
              "      <td>False</td>\n",
              "      <td>False</td>\n",
              "      <td>False</td>\n",
              "      <td>False</td>\n",
              "      <td>False</td>\n",
              "      <td>False</td>\n",
              "      <td>False</td>\n",
              "      <td>False</td>\n",
              "    </tr>\n",
              "    <tr>\n",
              "      <th>4</th>\n",
              "      <td>False</td>\n",
              "      <td>False</td>\n",
              "      <td>False</td>\n",
              "      <td>False</td>\n",
              "      <td>False</td>\n",
              "      <td>False</td>\n",
              "      <td>False</td>\n",
              "      <td>False</td>\n",
              "      <td>False</td>\n",
              "    </tr>\n",
              "    <tr>\n",
              "      <th>...</th>\n",
              "      <td>...</td>\n",
              "      <td>...</td>\n",
              "      <td>...</td>\n",
              "      <td>...</td>\n",
              "      <td>...</td>\n",
              "      <td>...</td>\n",
              "      <td>...</td>\n",
              "      <td>...</td>\n",
              "      <td>...</td>\n",
              "    </tr>\n",
              "    <tr>\n",
              "      <th>5783</th>\n",
              "      <td>False</td>\n",
              "      <td>False</td>\n",
              "      <td>False</td>\n",
              "      <td>False</td>\n",
              "      <td>False</td>\n",
              "      <td>False</td>\n",
              "      <td>False</td>\n",
              "      <td>False</td>\n",
              "      <td>False</td>\n",
              "    </tr>\n",
              "    <tr>\n",
              "      <th>5784</th>\n",
              "      <td>False</td>\n",
              "      <td>False</td>\n",
              "      <td>False</td>\n",
              "      <td>False</td>\n",
              "      <td>False</td>\n",
              "      <td>False</td>\n",
              "      <td>False</td>\n",
              "      <td>False</td>\n",
              "      <td>False</td>\n",
              "    </tr>\n",
              "    <tr>\n",
              "      <th>5785</th>\n",
              "      <td>False</td>\n",
              "      <td>False</td>\n",
              "      <td>False</td>\n",
              "      <td>False</td>\n",
              "      <td>False</td>\n",
              "      <td>False</td>\n",
              "      <td>False</td>\n",
              "      <td>False</td>\n",
              "      <td>False</td>\n",
              "    </tr>\n",
              "    <tr>\n",
              "      <th>5786</th>\n",
              "      <td>False</td>\n",
              "      <td>False</td>\n",
              "      <td>False</td>\n",
              "      <td>False</td>\n",
              "      <td>False</td>\n",
              "      <td>False</td>\n",
              "      <td>False</td>\n",
              "      <td>False</td>\n",
              "      <td>False</td>\n",
              "    </tr>\n",
              "    <tr>\n",
              "      <th>5787</th>\n",
              "      <td>False</td>\n",
              "      <td>False</td>\n",
              "      <td>False</td>\n",
              "      <td>False</td>\n",
              "      <td>False</td>\n",
              "      <td>False</td>\n",
              "      <td>False</td>\n",
              "      <td>False</td>\n",
              "      <td>False</td>\n",
              "    </tr>\n",
              "  </tbody>\n",
              "</table>\n",
              "<p>5788 rows × 9 columns</p>\n",
              "</div>\n",
              "      <button class=\"colab-df-convert\" onclick=\"convertToInteractive('df-31ed7c7b-3396-47dc-8776-84ba606eaca0')\"\n",
              "              title=\"Convert this dataframe to an interactive table.\"\n",
              "              style=\"display:none;\">\n",
              "        \n",
              "  <svg xmlns=\"http://www.w3.org/2000/svg\" height=\"24px\"viewBox=\"0 0 24 24\"\n",
              "       width=\"24px\">\n",
              "    <path d=\"M0 0h24v24H0V0z\" fill=\"none\"/>\n",
              "    <path d=\"M18.56 5.44l.94 2.06.94-2.06 2.06-.94-2.06-.94-.94-2.06-.94 2.06-2.06.94zm-11 1L8.5 8.5l.94-2.06 2.06-.94-2.06-.94L8.5 2.5l-.94 2.06-2.06.94zm10 10l.94 2.06.94-2.06 2.06-.94-2.06-.94-.94-2.06-.94 2.06-2.06.94z\"/><path d=\"M17.41 7.96l-1.37-1.37c-.4-.4-.92-.59-1.43-.59-.52 0-1.04.2-1.43.59L10.3 9.45l-7.72 7.72c-.78.78-.78 2.05 0 2.83L4 21.41c.39.39.9.59 1.41.59.51 0 1.02-.2 1.41-.59l7.78-7.78 2.81-2.81c.8-.78.8-2.07 0-2.86zM5.41 20L4 18.59l7.72-7.72 1.47 1.35L5.41 20z\"/>\n",
              "  </svg>\n",
              "      </button>\n",
              "      \n",
              "  <style>\n",
              "    .colab-df-container {\n",
              "      display:flex;\n",
              "      flex-wrap:wrap;\n",
              "      gap: 12px;\n",
              "    }\n",
              "\n",
              "    .colab-df-convert {\n",
              "      background-color: #E8F0FE;\n",
              "      border: none;\n",
              "      border-radius: 50%;\n",
              "      cursor: pointer;\n",
              "      display: none;\n",
              "      fill: #1967D2;\n",
              "      height: 32px;\n",
              "      padding: 0 0 0 0;\n",
              "      width: 32px;\n",
              "    }\n",
              "\n",
              "    .colab-df-convert:hover {\n",
              "      background-color: #E2EBFA;\n",
              "      box-shadow: 0px 1px 2px rgba(60, 64, 67, 0.3), 0px 1px 3px 1px rgba(60, 64, 67, 0.15);\n",
              "      fill: #174EA6;\n",
              "    }\n",
              "\n",
              "    [theme=dark] .colab-df-convert {\n",
              "      background-color: #3B4455;\n",
              "      fill: #D2E3FC;\n",
              "    }\n",
              "\n",
              "    [theme=dark] .colab-df-convert:hover {\n",
              "      background-color: #434B5C;\n",
              "      box-shadow: 0px 1px 3px 1px rgba(0, 0, 0, 0.15);\n",
              "      filter: drop-shadow(0px 1px 2px rgba(0, 0, 0, 0.3));\n",
              "      fill: #FFFFFF;\n",
              "    }\n",
              "  </style>\n",
              "\n",
              "      <script>\n",
              "        const buttonEl =\n",
              "          document.querySelector('#df-31ed7c7b-3396-47dc-8776-84ba606eaca0 button.colab-df-convert');\n",
              "        buttonEl.style.display =\n",
              "          google.colab.kernel.accessAllowed ? 'block' : 'none';\n",
              "\n",
              "        async function convertToInteractive(key) {\n",
              "          const element = document.querySelector('#df-31ed7c7b-3396-47dc-8776-84ba606eaca0');\n",
              "          const dataTable =\n",
              "            await google.colab.kernel.invokeFunction('convertToInteractive',\n",
              "                                                     [key], {});\n",
              "          if (!dataTable) return;\n",
              "\n",
              "          const docLinkHtml = 'Like what you see? Visit the ' +\n",
              "            '<a target=\"_blank\" href=https://colab.research.google.com/notebooks/data_table.ipynb>data table notebook</a>'\n",
              "            + ' to learn more about interactive tables.';\n",
              "          element.innerHTML = '';\n",
              "          dataTable['output_type'] = 'display_data';\n",
              "          await google.colab.output.renderOutput(dataTable, element);\n",
              "          const docLink = document.createElement('div');\n",
              "          docLink.innerHTML = docLinkHtml;\n",
              "          element.appendChild(docLink);\n",
              "        }\n",
              "      </script>\n",
              "    </div>\n",
              "  </div>\n",
              "  "
            ]
          },
          "metadata": {},
          "execution_count": 12
        }
      ]
    },
    {
      "cell_type": "code",
      "source": [
        "##Preparamos los datos para el modelo de prediccion:\n",
        "#Quitamos la columna 'Rating'\n",
        "x_train = df.drop('Rating', axis=1)\n",
        "\n",
        "#Declaramos y_traing con el dato de Rating\n",
        "y_train = df['Rating']\n",
        "\n",
        "#values.counts() = cuenta los numeros que coinciden\n",
        "y_train.value_counts()"
      ],
      "metadata": {
        "colab": {
          "base_uri": "https://localhost:8080/"
        },
        "id": "BBVQfck0a1sl",
        "outputId": "c938e272-74be-4dd0-e39c-4fd609d04e5f"
      },
      "execution_count": 13,
      "outputs": [
        {
          "output_type": "execute_result",
          "data": {
            "text/plain": [
              "1    4317\n",
              "0    1471\n",
              "Name: Rating, dtype: int64"
            ]
          },
          "metadata": {},
          "execution_count": 13
        }
      ]
    },
    {
      "cell_type": "code",
      "source": [
        "#Devolvemos los datos\n",
        "print(y_train.value_counts())"
      ],
      "metadata": {
        "colab": {
          "base_uri": "https://localhost:8080/"
        },
        "id": "jvHMZsj9a1u_",
        "outputId": "c4f5d95f-8a3d-4326-cae0-c03d3b4b1cc8"
      },
      "execution_count": 14,
      "outputs": [
        {
          "output_type": "stream",
          "name": "stdout",
          "text": [
            "1    4317\n",
            "0    1471\n",
            "Name: Rating, dtype: int64\n"
          ]
        }
      ]
    },
    {
      "cell_type": "code",
      "source": [
        "#Preparamos el modelo train_test_split\n",
        "X_train, X_test, y_train, y_test = train_test_split(x_train, y_train,test_size=0.8)"
      ],
      "metadata": {
        "id": "nkbAz-43a1xR"
      },
      "execution_count": 15,
      "outputs": []
    },
    {
      "cell_type": "code",
      "source": [
        "#Comprobamos si x_test esta bien\n",
        "print('',X_test)"
      ],
      "metadata": {
        "colab": {
          "base_uri": "https://localhost:8080/"
        },
        "id": "oC7NR_N4a1zw",
        "outputId": "6dd9b69a-0a29-4b64-c47e-a7a331e08cb9"
      },
      "execution_count": 16,
      "outputs": [
        {
          "output_type": "stream",
          "name": "stdout",
          "text": [
            "       Category  Reviews  Installs  Type  Price  Content Rating    Genres  \\\n",
            "653        106    42871       841     1    0.0            4764  0.667706   \n",
            "1719      1114     6007       841     1    0.0            4764  0.323390   \n",
            "2750       508     4908       308     1    0.0            4764  0.831048   \n",
            "3276       581   135739       356     1    0.0            4764  0.582485   \n",
            "3648      1114        4       448     1    0.0            4764  0.583147   \n",
            "...        ...      ...       ...   ...    ...             ...       ...   \n",
            "5580       212        2       448     1    0.0             597  0.461115   \n",
            "2310        46     9307       841     1    0.0            4764  0.368132   \n",
            "697        219        2       448     1    0.0            4764  0.082737   \n",
            "2996       143    37882       841     1    0.0             597  1.352761   \n",
            "63         264        0       124     1    0.0             597  0.670851   \n",
            "\n",
            "      Android Ver  \n",
            "653          1317  \n",
            "1719          381  \n",
            "2750          761  \n",
            "3276          582  \n",
            "3648          761  \n",
            "...           ...  \n",
            "5580          164  \n",
            "2310          481  \n",
            "697          1317  \n",
            "2996          846  \n",
            "63           1317  \n",
            "\n",
            "[4631 rows x 8 columns]\n"
          ]
        }
      ]
    },
    {
      "cell_type": "code",
      "source": [
        "#Comprobamos si y_test esta bien\n",
        "y_test"
      ],
      "metadata": {
        "colab": {
          "base_uri": "https://localhost:8080/"
        },
        "id": "koo9k1bWbC5G",
        "outputId": "cea7e512-71af-4abf-d9a3-fd6bd656e947"
      },
      "execution_count": 17,
      "outputs": [
        {
          "output_type": "execute_result",
          "data": {
            "text/plain": [
              "653     1\n",
              "1719    1\n",
              "2750    0\n",
              "3276    1\n",
              "3648    1\n",
              "       ..\n",
              "5580    1\n",
              "2310    0\n",
              "697     1\n",
              "2996    1\n",
              "63      1\n",
              "Name: Rating, Length: 4631, dtype: int64"
            ]
          },
          "metadata": {},
          "execution_count": 17
        }
      ]
    },
    {
      "cell_type": "code",
      "source": [
        "#Creamos el modelos Random Forest\n",
        "rf = RandomForestClassifier(n_jobs = -1,max_depth=3,random_state=1) #creamos la variable rf para guardar el modelo con los parámetros deseados\n",
        "rf = rf.fit(X_train,y_train) #entrenamos con datos guardados en X_train, y_train\n",
        "rf_pred = rf.predict(X_test) #generamos las predicciones usando como variables predictoras los datos en X_test\n",
        "rf_pred #mostramos las predicciones guardadas en la variable rf_pred\n",
        "##Importamos las metricas para poder el reporte de los resultados:\n",
        "rf_pred = accuracy_score(y_test,rf_pred)\n",
        "rf_pred"
      ],
      "metadata": {
        "colab": {
          "base_uri": "https://localhost:8080/"
        },
        "id": "1XI-37MvbC7n",
        "outputId": "1614ed28-4ebb-4cd7-d7be-5f4c9bc928d0"
      },
      "execution_count": 18,
      "outputs": [
        {
          "output_type": "execute_result",
          "data": {
            "text/plain": [
              "0.7486503994817534"
            ]
          },
          "metadata": {},
          "execution_count": 18
        }
      ]
    },
    {
      "cell_type": "code",
      "source": [
        "##Modelo de Regresion Logistica:\n",
        "#Importamos sklear.metrics\n",
        "from sklearn.metrics import confusion_matrix, classification_report\n",
        "\n",
        "#Instacia del clasificacion: logreg\n",
        "logreg = LogisticRegression()\n",
        "\n",
        "#Clasificacdor a los de entrenamiento\n",
        "logreg = logreg.fit(X_train, y_train)\n",
        "\n",
        "#Modelo de prueba para que haga predicciones después del entrenamiento: y_pred\n",
        "y_predL = logreg.predict(X_test)"
      ],
      "metadata": {
        "id": "EXfmChEZbDA3"
      },
      "execution_count": 20,
      "outputs": []
    },
    {
      "cell_type": "code",
      "source": [
        "##Evaluamos los resultados del modelo:\n",
        "print(confusion_matrix(y_test, y_predL))\n",
        "print(\"---------------------------------------------------\")\n",
        "print(classification_report(y_test, y_predL))"
      ],
      "metadata": {
        "colab": {
          "base_uri": "https://localhost:8080/"
        },
        "id": "yN1zLFXFbDDL",
        "outputId": "1662e156-8381-400f-a093-8fce8335b7bb"
      },
      "execution_count": 21,
      "outputs": [
        {
          "output_type": "stream",
          "name": "stdout",
          "text": [
            "[[  20 1144]\n",
            " [  48 3419]]\n",
            "---------------------------------------------------\n",
            "              precision    recall  f1-score   support\n",
            "\n",
            "           0       0.29      0.02      0.03      1164\n",
            "           1       0.75      0.99      0.85      3467\n",
            "\n",
            "    accuracy                           0.74      4631\n",
            "   macro avg       0.52      0.50      0.44      4631\n",
            "weighted avg       0.63      0.74      0.65      4631\n",
            "\n"
          ]
        }
      ]
    },
    {
      "cell_type": "code",
      "source": [
        "#Donde sklearn.metrics importamos accury_score\n",
        "from sklearn.metrics import accuracy_score"
      ],
      "metadata": {
        "id": "UcvQSA7SbDF6"
      },
      "execution_count": 22,
      "outputs": []
    },
    {
      "cell_type": "code",
      "source": [
        "#Creando el primer Metodo \"predct\"\n",
        "y_pred = logreg.predict(X_test)\n",
        "\n",
        "#Hacemos las predicciones\n",
        "predict = accuracy_score(y_test, y_predL)"
      ],
      "metadata": {
        "id": "qrJ38DBvbDIq"
      },
      "execution_count": 23,
      "outputs": []
    },
    {
      "cell_type": "code",
      "source": [
        "#Creando el segundo metodo \"predict\"\n",
        "model2 = rf.predict(X_test)\n",
        "\n",
        "#Devolvemos la predicción\n",
        "predict1 = accuracy_score(y_test, model2)"
      ],
      "metadata": {
        "id": "0ZbN8rJLbDLV"
      },
      "execution_count": 24,
      "outputs": []
    },
    {
      "cell_type": "code",
      "source": [
        "#Devolvemos la segunda predicción\n",
        "predict1"
      ],
      "metadata": {
        "colab": {
          "base_uri": "https://localhost:8080/"
        },
        "id": "dd7KSx_ZbDN0",
        "outputId": "fe1d0e81-721a-451f-9d56-7b89cf2f9854"
      },
      "execution_count": 25,
      "outputs": [
        {
          "output_type": "execute_result",
          "data": {
            "text/plain": [
              "0.7486503994817534"
            ]
          },
          "metadata": {},
          "execution_count": 25
        }
      ]
    },
    {
      "cell_type": "code",
      "source": [
        "##Modelo de regresion lineal:\n",
        "#Importamos los datos:\n",
        "from sklearn.model_selection import train_test_split\n",
        "from sklearn.linear_model import LinearRegression\n",
        "from sklearn import metrics"
      ],
      "metadata": {
        "id": "ruLh6esLbDQZ"
      },
      "execution_count": 26,
      "outputs": []
    },
    {
      "cell_type": "code",
      "source": [
        "# instanciamos el modelo\n",
        "reg_all = LinearRegression()"
      ],
      "metadata": {
        "id": "dS7_3eecbyBA"
      },
      "execution_count": 27,
      "outputs": []
    },
    {
      "cell_type": "code",
      "source": [
        "##Entremos el modelom:\n",
        "reg_all = reg_all.fit(X_train, y_train)"
      ],
      "metadata": {
        "id": "koFp_XymbyDu"
      },
      "execution_count": 28,
      "outputs": []
    },
    {
      "cell_type": "code",
      "source": [
        "##Devolvemos el resutaldo del entrenamiento sobre el modelos:\n",
        "reg_all.predict(X_test)"
      ],
      "metadata": {
        "colab": {
          "base_uri": "https://localhost:8080/"
        },
        "id": "25-FzrK5byGN",
        "outputId": "84e1c7f3-53bd-4096-e971-080a55da86a2"
      },
      "execution_count": 29,
      "outputs": [
        {
          "output_type": "execute_result",
          "data": {
            "text/plain": [
              "array([0.66756652, 0.58826267, 0.78406567, ..., 0.7423805 , 0.6630689 ,\n",
              "       0.86306004])"
            ]
          },
          "metadata": {},
          "execution_count": 29
        }
      ]
    },
    {
      "cell_type": "code",
      "source": [
        "##Metricas de error:\n",
        "print(metrics.r2_score(y_test, y_pred))\n",
        "print(\"===================================================\")\n",
        "# R^2\n",
        "print(\"R^2\", reg_all.score(X_test, y_test))"
      ],
      "metadata": {
        "colab": {
          "base_uri": "https://localhost:8080/"
        },
        "id": "vzYD8-l-byIo",
        "outputId": "b8f63a21-a5ff-4972-eac1-2d544b2cb6e8"
      },
      "execution_count": 30,
      "outputs": [
        {
          "output_type": "stream",
          "name": "stdout",
          "text": [
            "-0.3678680777125911\n",
            "===================================================\n",
            "R^2 -0.007522828651101099\n"
          ]
        }
      ]
    },
    {
      "cell_type": "code",
      "source": [
        "##Valor medio Adsoluto:\n",
        "mse = np.mean((y_test - y_pred)**2)\n",
        "mse\n",
        "print(\"===================================================\")\n",
        "print(metrics.mean_squared_error(y_test, y_pred))"
      ],
      "metadata": {
        "colab": {
          "base_uri": "https://localhost:8080/"
        },
        "id": "z9Yn_eytbyLX",
        "outputId": "cab5b1b7-2542-41d0-e9ba-c91954159409"
      },
      "execution_count": 31,
      "outputs": [
        {
          "output_type": "stream",
          "name": "stdout",
          "text": [
            "===================================================\n",
            "0.25739581083999136\n"
          ]
        }
      ]
    },
    {
      "cell_type": "code",
      "source": [
        "np.mean(y_test)\n",
        "print(\"===================================================\")\n",
        "rmse = np.sqrt(np.mean((y_test - y_pred)**2))\n",
        "rmse\n",
        "print(\"===================================================\")\n",
        "y = np.sqrt(metrics.mean_squared_error(y_test, y_pred))\n",
        "y\n",
        "print(\"===================================================\")"
      ],
      "metadata": {
        "colab": {
          "base_uri": "https://localhost:8080/"
        },
        "id": "_66KZdVXbyQd",
        "outputId": "c69d914d-c90c-459d-a9e2-5239670f238e"
      },
      "execution_count": 32,
      "outputs": [
        {
          "output_type": "stream",
          "name": "stdout",
          "text": [
            "===================================================\n",
            "===================================================\n",
            "===================================================\n"
          ]
        }
      ]
    },
    {
      "cell_type": "code",
      "source": [
        "##Evaluacion de los modelos:\n",
        "print(\"Evaluacion del modelo Lineal\")\n",
        "print(\"---------------------------------------------------------------------\")\n",
        "print('Resultado del modelo Regresion Lineal: ',predict1)\n",
        "print(\"---------------------------------------------------------------------\")\n",
        "print(\"Promediamos y_test: \",np.mean(y_test))\n",
        "print(\"---------------------------------------------------------------------\")\n",
        "print(\"Resultados de rmse: \",rmse)\n",
        "print(\"---------------------------------------------------------------------\")\n",
        "print(\"raiz cuadrada de la metrica de y_test y y_pred: \", y)\n",
        "print(\"---------------------------------------------------------------------\")"
      ],
      "metadata": {
        "colab": {
          "base_uri": "https://localhost:8080/"
        },
        "id": "4oKoBh6AbyTB",
        "outputId": "38203f21-9d56-4f1d-fe32-831ff7abba20"
      },
      "execution_count": 33,
      "outputs": [
        {
          "output_type": "stream",
          "name": "stdout",
          "text": [
            "---------------------------------------------------------------------\n",
            "Resultado del modelo Regresion Lineal:  0.7486503994817534\n",
            "---------------------------------------------------------------------\n",
            "Promediamos y_test:  0.7486503994817534\n",
            "---------------------------------------------------------------------\n",
            "Resultados de rmse:  0.5073419072380985\n",
            "---------------------------------------------------------------------\n",
            "raiz cuadrada de la metrica de y_test y y_pred:  0.5073419072380985\n",
            "---------------------------------------------------------------------\n"
          ]
        }
      ]
    },
    {
      "cell_type": "code",
      "source": [
        "print(\"Evaluacion del modelo Logistico\")\n",
        "print(\"---------------------------------------------------------------------\")\n",
        "print('Resultado del modelo Regresion Logistica: ',y)\n",
        "print(\"---------------------------------------------------------------------\")\n",
        "print(\"Resultados de las predicciones: \", confusion_matrix(y_test, y_predL))\n",
        "print(\"---------------------------------------------------------------------\")\n",
        "print(classification_report(y_test, y_predL))\n",
        "print(\"---------------------------------------------------------------------\")"
      ],
      "metadata": {
        "colab": {
          "base_uri": "https://localhost:8080/"
        },
        "id": "LVLFWVZQbyVW",
        "outputId": "6e339aa8-5bb5-4b34-a60d-d45c0024bc53"
      },
      "execution_count": 34,
      "outputs": [
        {
          "output_type": "stream",
          "name": "stdout",
          "text": [
            "Evaluacion del modelo Logistico\n",
            "---------------------------------------------------------------------\n",
            "Resultado del modelo Regresion Logistica:  0.5073419072380985\n",
            "---------------------------------------------------------------------\n",
            "Resultados de las predicciones:  [[  20 1144]\n",
            " [  48 3419]]\n",
            "---------------------------------------------------------------------\n",
            "              precision    recall  f1-score   support\n",
            "\n",
            "           0       0.29      0.02      0.03      1164\n",
            "           1       0.75      0.99      0.85      3467\n",
            "\n",
            "    accuracy                           0.74      4631\n",
            "   macro avg       0.52      0.50      0.44      4631\n",
            "weighted avg       0.63      0.74      0.65      4631\n",
            "\n",
            "---------------------------------------------------------------------\n"
          ]
        }
      ]
    },
    {
      "cell_type": "code",
      "source": [],
      "metadata": {
        "id": "sjdU3flNdpBE"
      },
      "execution_count": null,
      "outputs": []
    }
  ]
}